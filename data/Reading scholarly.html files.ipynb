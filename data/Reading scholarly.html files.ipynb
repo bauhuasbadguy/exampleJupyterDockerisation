{
 "cells": [
  {
   "cell_type": "markdown",
   "metadata": {},
   "source": [
    "<center><h1>Reading scholarly.html files</h1></center>"
   ]
  },
  {
   "cell_type": "markdown",
   "metadata": {},
   "source": [
    "## Introduction\n",
    "\n",
    "In this notebook I am going to attempt to write a parser to read scholarly.html files.\n",
    "\n",
    "### Find an example file and load it"
   ]
  },
  {
   "cell_type": "code",
   "execution_count": 1,
   "metadata": {},
   "outputs": [
    {
     "name": "stdout",
     "output_type": "stream",
     "text": [
      "['svg', 'word.frequencies.snippets.xml', 'fulltext.pdf', 'pdfimages', 'search.country.snippets.xml', 'scholarly.html', 'eupmc_result.json', 'search.country.count.xml', 'results', 'fulltext.xml', 'word.frequencies.count.xml']\n"
     ]
    }
   ],
   "source": [
    "import os\n",
    "\n",
    "print(os.listdir('./results/PMC2241601'))\n",
    "\n",
    "html_root = './results/PMC2241601/scholarly.html'\n",
    "\n",
    "#load the data in\n",
    "with open(html_root, 'r') as f:\n",
    "\n",
    "    raw_text = f.read()\n",
    "    \n"
   ]
  },
  {
   "cell_type": "code",
   "execution_count": 2,
   "metadata": {
    "scrolled": true
   },
   "outputs": [],
   "source": [
    "from bs4 import BeautifulSoup\n",
    "\n",
    "#parse the html into soup\n",
    "soup = BeautifulSoup(raw_text, 'html.parser')\n",
    "\n",
    "#extract the body\n",
    "body = soup.find('body')\n",
    "\n"
   ]
  },
  {
   "cell_type": "markdown",
   "metadata": {},
   "source": [
    "### Try and make the parser work using just the abstract"
   ]
  },
  {
   "cell_type": "code",
   "execution_count": 3,
   "metadata": {},
   "outputs": [],
   "source": [
    "#extract the front element\n",
    "front = body.find('div', {'class':'front'})"
   ]
  },
  {
   "cell_type": "code",
   "execution_count": 4,
   "metadata": {},
   "outputs": [
    {
     "data": {
      "text/plain": [
       "'<div class=\"journal-meta\" tagx=\"journal-meta\" title=\"journal-meta\">\\n <span class=\"nlm-ta\" title=\"nlm-ta\">\\n  BMC Plant Biol\\n </span>\\n <span class=\"journal-title\" tagx=\"journal-title\" title=\"journal-title\">\\n  BMC Plant Biology\\n </span>\\n <span class=\"issn-epub\" tagx=\"issn\" title=\"issn-epub\">\\n  1471-2229\\n </span>\\n <div class=\"publisher\" tagx=\"publisher\" title=\"publisher\">\\n  <span class=\"publisher-name\" tagx=\"publisher-name\" title=\"publisher-name\">\\n   BioMed Central\\n  </span>\\n </div>\\n</div>\\n'"
      ]
     },
     "execution_count": 4,
     "metadata": {},
     "output_type": "execute_result"
    }
   ],
   "source": [
    "### Extract the journal metadata\n",
    "\n",
    "#extract the journal metadata\n",
    "journal_meta = front.find('div', {'class':'journal-meta'})\n",
    "\n",
    "#extract the journal title\n",
    "journal_title = journal_meta.find('span', {'class':'journal-title'}).text\n",
    "\n",
    "#extract the journal issn value\n",
    "journal_issn = journal_meta.find('span', {'class':'issn-epub'}).text\n",
    "\n",
    "#extract the journal publisher element\n",
    "journal_publisher_el = journal_meta.find('div', {'class':'publisher'})\n",
    "\n",
    "#extract the journal publisher name\n",
    "journal_publisher_name = journal_publisher_el.find('span', {'class':'publisher-name'}).text\n",
    "\n",
    "#extract the paper metadata\n",
    "paper_meta = front.findAll('div', {'class':'article-meta'})\n",
    "\n",
    "#lets have a look at what we've got here\n",
    "journal_meta.prettify()\n"
   ]
  },
  {
   "cell_type": "code",
   "execution_count": 5,
   "metadata": {},
   "outputs": [
    {
     "data": {
      "text/plain": [
       "<div class=\"publisher\" tagx=\"publisher\" title=\"publisher\"><span class=\"publisher-name\" tagx=\"publisher-name\" title=\"publisher-name\">BioMed Central</span></div>"
      ]
     },
     "execution_count": 5,
     "metadata": {},
     "output_type": "execute_result"
    }
   ],
   "source": [
    "#journal_meta.find('span', {'class':'journal-title'})\n",
    "\n",
    "journal_publisher_el\n"
   ]
  },
  {
   "cell_type": "markdown",
   "metadata": {},
   "source": [
    "### Extract the paper metadata"
   ]
  },
  {
   "cell_type": "code",
   "execution_count": 6,
   "metadata": {},
   "outputs": [],
   "source": [
    "art_meta_el = front.find('div', {'class':'article-meta'})\n",
    "\n",
    "#get the publisher id\n",
    "pub_id = art_meta_el.find('span', {'class':'publisher-id'}).text\n",
    "\n",
    "#get the pmid\n",
    "pmid = art_meta_el.find('span', {'class':'pmid'}).text\n"
   ]
  },
  {
   "cell_type": "code",
   "execution_count": 7,
   "metadata": {},
   "outputs": [
    {
     "ename": "SyntaxError",
     "evalue": "invalid syntax (<ipython-input-7-1568a7d40180>, line 30)",
     "output_type": "error",
     "traceback": [
      "\u001b[0;36m  File \u001b[0;32m\"<ipython-input-7-1568a7d40180>\"\u001b[0;36m, line \u001b[0;32m30\u001b[0m\n\u001b[0;31m    self.store_json[]\u001b[0m\n\u001b[0m                    ^\u001b[0m\n\u001b[0;31mSyntaxError\u001b[0m\u001b[0;31m:\u001b[0m invalid syntax\n"
     ]
    }
   ],
   "source": [
    "class recursion_tests(object):\n",
    "    \n",
    "    def __init__(self, front_el):\n",
    "        \n",
    "        self.store_json = {}\n",
    "        \n",
    "        self.path = []\n",
    "        \n",
    "        el_label = front_el['class'][0]\n",
    "        \n",
    "        self.recursive_search(front_el, el_label)\n",
    "        \n",
    "        '''\n",
    "        for ci, child in enumerate(front_el.children):\n",
    "            \n",
    "            #check if its one of those wierd NavigableString things\n",
    "            if 'bs4.element.NavigableString' in str(child.__class__):\n",
    "                #move on if it does\n",
    "                continue\n",
    "        \n",
    "            if child.name == 'div':\n",
    "                \n",
    "                store = self.recursive_search(child)\n",
    "        '''\n",
    "        \n",
    "    def recursive_search(self, div_el, top_layer):\n",
    "        \n",
    "        div_el_title = div_el['class'][0]\n",
    "        \n",
    "        #store_obj = {div_el_title:{}}\n",
    "        top_layer[div_el_title] = {}\n",
    "        \n",
    "        for chi, child1 in enumerate(store_obj.children):\n",
    "            \n",
    "            #check if its one of those wierd NavigableString things\n",
    "            if 'bs4.element.NavigableString' in str(child.__class__):\n",
    "                #move on if it does\n",
    "                continue\n",
    "                \n",
    "            if child1.name == 'div':\n",
    "                \n",
    "                self.path.append(child1['class'][0])\n",
    "                print(path)\n",
    "                \n",
    "                store = self.recursive_search(child1)\n",
    "                \n",
    "            elif child1.name == 'span':\n",
    "                \n",
    "                #extract the data from the span element we've found\n",
    "                title = child1['class'][0]\n",
    "                text = child1.text\n",
    "                \n",
    "                store_obj[div_el_title][title] = text\n",
    "                \n",
    "                \n",
    "\n",
    "##################################\n",
    "### End of function defintions ###\n",
    "##################################\n",
    "\n",
    "\n",
    "'''\n",
    "### Reference implementation\n",
    "json_dict = {}\n",
    "flat_dict = {}\n",
    "\n",
    "for parent, children in file_iterator():\n",
    "    if parent in flat_dict:\n",
    "        value = flat_dict[parent]\n",
    "    else:\n",
    "        value = {}\n",
    "        flat_dict[parent] = json_dict[parent] = value\n",
    "    for child in children:\n",
    "        flat_dict[child] = value[child] = {}\n",
    "'''\n",
    "\n",
    "tester = recursion_tests(front.find('div', {'class':'journal-meta'}))"
   ]
  },
  {
   "cell_type": "code",
   "execution_count": 13,
   "metadata": {},
   "outputs": [
    {
     "name": "stdout",
     "output_type": "stream",
     "text": [
      "going down\n",
      "going down\n",
      "going down\n",
      "going down\n",
      "going down\n",
      "going down\n",
      "going down\n",
      "going down\n",
      "going down\n",
      "going down\n",
      "going down\n",
      "going down\n",
      "going down\n",
      "going down\n",
      "going down\n",
      "going down\n",
      "++++++++\n",
      "{'article-meta': {'abstract': {'abstract-title': {},\n",
      "                               'background': {'title': {}},\n",
      "                               'conclusion': {'title': {}},\n",
      "                               'results': {'title': {}}},\n",
      "                  'article-categories': {'subject': 'Research Article'},\n",
      "                  'citation_author_institution': '[2], ',\n",
      "                  'contrib-group': {'contrib': 'WesthoffPeter1west@uni-duesseldorf.de'},\n",
      "                  'doi': ' doi: 10.1186/1471-2229-8-4',\n",
      "                  'fpage': '4',\n",
      "                  'history': 'received: 2007-11-8accepted: 2008-1-21',\n",
      "                  'lpage': '4',\n",
      "                  'permissions': {'copyright': '(C) Engelmann et al; licensee '\n",
      "                                               'BioMed Central Ltd., 2008',\n",
      "                                  'license': ' This is an Open Access article '\n",
      "                                             'distributed under the terms of '\n",
      "                                             'the Creative Commons Attribution '\n",
      "                                             'License (), which permits '\n",
      "                                             'unrestricted use, distribution, '\n",
      "                                             'and reproduction in any medium, '\n",
      "                                             'provided the original work is '\n",
      "                                             'properly cited.'},\n",
      "                  'pmid': ' pmid: 18208593',\n",
      "                  'pub-date-collection': 'collection: 2008',\n",
      "                  'pub-date-epub': 'epub: 2008-1-1',\n",
      "                  'publisher-id': '1471-2229-8-4',\n",
      "                  'title-group': {'article-title': {}},\n",
      "                  'volume': '8'},\n",
      " 'journal-meta': {'issn-epub': '1471-2229',\n",
      "                  'journal-title': 'BMC Plant Biology',\n",
      "                  'nlm-ta': 'BMC Plant Biol',\n",
      "                  'publisher': {'publisher-name': 'BioMed Central'}}}\n"
     ]
    }
   ],
   "source": [
    "from pprint import pprint\n",
    "\n",
    "def iterdict(d):\n",
    "    for k,v in d.items():        \n",
    "        if isinstance(v, dict):\n",
    "            iterdict(v)\n",
    "        else:            \n",
    "            print (k,\":\",v)\n",
    "        \n",
    "def iterhtml(el):\n",
    "    \n",
    "    store_json = {}\n",
    "    \n",
    "    if el.children:\n",
    "    \n",
    "        for item in el.children:\n",
    "            \n",
    "            #check if the item is whatever a navigable string is\n",
    "            if 'bs4.element.NavigableString' in str(item.__class__):\n",
    "                #move on if it does\n",
    "                continue\n",
    "\n",
    "            if item.name == 'div':\n",
    "                print('going down')\n",
    "                \n",
    "                store_json[item['class'][0]] = iterhtml(item)\n",
    "                \n",
    "            elif item.name == 'span':\n",
    "                \n",
    "                store_json[item['class'][0]] = item.text\n",
    "                \n",
    "    return store_json\n",
    "\n",
    "\n",
    "result = iterhtml(front)\n",
    "    \n",
    "print('++++++++')\n",
    "    \n",
    "pprint(result)"
   ]
  },
  {
   "cell_type": "code",
   "execution_count": 11,
   "metadata": {},
   "outputs": [
    {
     "name": "stdout",
     "output_type": "stream",
     "text": [
      " \n",
      "<div class=\"journal-meta\" tagx=\"journal-meta\" title=\"journal-meta\"><span class=\"nlm-ta\" title=\"nlm-ta\">BMC Plant Biol</span><span class=\"journal-title\" tagx=\"journal-title\" title=\"journal-title\">BMC Plant Biology</span><span class=\"issn-epub\" tagx=\"issn\" title=\"issn-epub\">1471-2229</span><div class=\"publisher\" tagx=\"publisher\" title=\"publisher\"><span class=\"publisher-name\" tagx=\"publisher-name\" title=\"publisher-name\">BioMed Central</span></div> </div>\n",
      " \n",
      "<div class=\"article-meta\" tagx=\"article-meta\" title=\"article-meta\"><span class=\"publisher-id\" title=\"publisher-id\">1471-2229-8-4</span><span class=\"pmid\" title=\"pmid\"> pmid: <a href=\"http://www.ncbi.nlm.nih.gov/pubmed/18208593\">18208593</a></span><span class=\"doi\" title=\"doi\"> doi: <a href=\"https://dx.doi.org/10.1186/1471-2229-8-4\">10.1186/1471-2229-8-4</a></span><div class=\"article-categories\" title=\"article-categories\">\n",
      ": <span class=\"subject\" title=\"subject\">Research Article</span></div> <div class=\"title-group\" tagx=\"title-group\" title=\"title-group\"> <div class=\"article-title\" title=\"article-title\">\n",
      "Evolution of the C<sub>4 </sub>phosphoenolpyruvate carboxylase promoter of the C<sub>4 </sub>species <i>Flaveria trinervia</i>: the role of the proximal promoter region</div> </div> <div class=\"contrib-group\" title=\"contrib-group\"><span class=\"contrib\" title=\"contrib\"><span class=\"name\" tagx=\"name\" title=\"name\"><span class=\"surname\" tagx=\"surname\" title=\"surname\">Engelmann</span><span class=\"given-names\" tagx=\"given-names\" title=\"given-names\">Sascha</span></span><a href=\"#I1\">1</a><span class=\"email\" tagx=\"email\" title=\"email\">engelmas@uni-duesseldorf.de</span></span><span class=\"contrib\" title=\"contrib\"><span class=\"name\" tagx=\"name\" title=\"name\"><span class=\"surname\" tagx=\"surname\" title=\"surname\">Zogel</span><span class=\"given-names\" tagx=\"given-names\" title=\"given-names\">Corinna</span></span><a href=\"#I1\">1</a><a href=\"#I2\">2</a><span class=\"email\" tagx=\"email\" title=\"email\">corinna.zogel@uni-due.de</span></span><span class=\"contrib\" title=\"contrib\"><span class=\"name\" tagx=\"name\" title=\"name\"><span class=\"surname\" tagx=\"surname\" title=\"surname\">Koczor</span><span class=\"given-names\" tagx=\"given-names\" title=\"given-names\">Maria</span></span><a href=\"#I1\">1</a><span class=\"email\" tagx=\"email\" title=\"email\">Maria.Koczor@uni-duesseldorf.de</span></span><span class=\"contrib\" title=\"contrib\"><span class=\"name\" tagx=\"name\" title=\"name\"><span class=\"surname\" tagx=\"surname\" title=\"surname\">Schlue</span><span class=\"given-names\" tagx=\"given-names\" title=\"given-names\">Ute</span></span><a href=\"#I1\">1</a><span class=\"email\" tagx=\"email\" title=\"email\">Ute.Schlue@uni-duesseldorf.de</span></span><span class=\"contrib\" title=\"contrib\"><span class=\"name\" tagx=\"name\" title=\"name\"><span class=\"surname\" tagx=\"surname\" title=\"surname\">Streubel</span><span class=\"given-names\" tagx=\"given-names\" title=\"given-names\">Monika</span></span><a href=\"#I1\">1</a><span class=\"email\" tagx=\"email\" title=\"email\">streubel@uni-duesseldorf.de</span></span><span class=\"contrib\" title=\"contrib\"><span class=\"name\" tagx=\"name\" title=\"name\"><span class=\"surname\" tagx=\"surname\" title=\"surname\">Westhoff</span><span class=\"given-names\" tagx=\"given-names\" title=\"given-names\">Peter</span></span><a href=\"#I1\">1</a><span class=\"email\" tagx=\"email\" title=\"email\">west@uni-duesseldorf.de</span></span></div><span class=\"citation_author_institution\" id=\"I1\">[1], </span><span class=\"citation_author_institution\" id=\"I2\">[2], </span><span class=\"pub-date-collection\" title=\"pub-date-collection\">collection: <span>2008</span></span><span class=\"pub-date-epub\" title=\"pub-date-epub\">epub: <span>2008-1-1</span></span><span class=\"volume\" tagx=\"volume\" title=\"volume\">8</span><span class=\"fpage\" tagx=\"fpage\" title=\"fpage\">4</span><span class=\"lpage\" tagx=\"lpage\" title=\"lpage\">4</span><a href=\"http://www.biomedcentral.com/1471-2229/8/4\"></a><span class=\"history\" title=\"history\"><span class=\"received\" title=\"received\">received: 2007-11-8</span><span class=\"accepted\" title=\"accepted\">accepted: 2008-1-21</span></span><div class=\"permissions\"><span class=\"copyright\" title=\"copyright\">(C) <span class=\"copyright-holder\" tagx=\"copyright-holder\" title=\"copyright-holder\">Engelmann et al; licensee BioMed Central Ltd.</span>, <span class=\"copyright-year\" tagx=\"copyright-year\" title=\"copyright-year\">2008</span></span><span class=\"license\" title=\"license\"> <p>This is an Open Access article distributed under the terms of the Creative Commons Attribution License (<a href=\"http://creativecommons.org/licenses/by/2.0\"></a>), which permits unrestricted use, distribution, and reproduction in any medium, provided the original work is properly cited.</p></span></div> <div class=\"abstract\" title=\"abstract\"> <div class=\"abstract-title\" title=\"abstract-title\">\n",
      "Abstract</div> <div class=\"background\" title=\"sec\"> <div class=\"title\" tagx=\"title\" title=\"title\">\n",
      "Background</div> <p>The key enzymes of photosynthetic carbon assimilation in C<sub>4 </sub>plants have evolved independently several times from C<sub>3 </sub>isoforms that were present in the C<sub>3 </sub>ancestral species. The C<sub>4 </sub>isoform of phosphoenolpyruvate carboxylase (PEPC), the primary CO<sub>2</sub>-fixing enzyme of the C<sub>4 </sub>cycle, is specifically expressed at high levels in mesophyll cells of the leaves of C<sub>4 </sub>species. We are interested in understanding the molecular changes that are responsible for the evolution of this C<sub>4</sub>-characteristic PEPC expression pattern, and we are using the genus <i>Flaveria </i>(Asteraceae) as a model system. It is known that <i>cis</i>-regulatory sequences for mesophyll-specific expression of the <i>ppcA1 </i>gene of <i>F. trinervia </i>(C<sub>4</sub>) are located within a distal promoter region (DR).</p> </div> <div class=\"results\" title=\"sec\"> <div class=\"title\" tagx=\"title\" title=\"title\">\n",
      "Results</div> <p>In this study we focus on the proximal region (PR) of the <i>ppcA1 </i>promoter of <i>F. trinervia </i>and present an analysis of its function in establishing a C<sub>4</sub>-specific expression pattern. We demonstrate that the PR harbours <i>cis</i>-regulatory determinants which account for high levels of PEPC expression in the leaf. Our results further suggest that an intron in the 5' untranslated leader region of the PR is not essential for the control of <i>ppcA1 </i>gene expression.</p> </div> <div class=\"conclusion\" title=\"sec\"> <div class=\"title\" tagx=\"title\" title=\"title\">\n",
      "Conclusion</div> <p>The allocation of <i>cis</i>-regulatory elements for enhanced expression levels to the proximal region of the <i>ppcA1 </i>promoter provides further insight into the regulation of PEPC expression in C<sub>4 </sub>leaves.</p> </div> </div> </div>\n",
      " \n"
     ]
    }
   ],
   "source": [
    "for child in front.children:\n",
    "    \n",
    "    print(child)"
   ]
  },
  {
   "cell_type": "code",
   "execution_count": null,
   "metadata": {
    "scrolled": false
   },
   "outputs": [],
   "source": [
    "\n",
    "store_json = {}\n",
    "for child in front.children:\n",
    "    \n",
    "    \n",
    "    if 'bs4.element.NavigableString' in str(child.__class__):\n",
    "        \n",
    "        continue\n",
    "        \n",
    "    print(child.name)\n",
    "    \n",
    "    for subchild in child.children:\n",
    "        \n",
    "        print(subchild)\n",
    "        if subchild.name == 'span':\n",
    "            \n",
    "            print('SPAN2')\n",
    "            \n",
    "        elif subchild.name == 'div':\n",
    "            \n",
    "            print('DIV2')\n",
    "            print(\"===============================\")\n",
    "            for subsubchild in subchild.children:\n",
    "                \n",
    "                \n",
    "                print(subsubchild)\n",
    "                \n",
    "                if subsubchild.name == 'span':\n",
    "                    \n",
    "                    print('SPAN3')\n",
    "                elif subsubchild.name == 'div':\n",
    "                    \n",
    "                    print('DIV3')\n",
    "        \n",
    "            print('===============================')\n",
    "        \n",
    "        print('---')\n",
    "        \n",
    "    print()\n",
    "    print('++++++++++++++++++')\n"
   ]
  },
  {
   "cell_type": "code",
   "execution_count": null,
   "metadata": {},
   "outputs": [],
   "source": [
    "'''\n",
    "def process_front(front_el):\n",
    "    \n",
    "    for child in front_el.children:\n",
    "\n",
    "        print(child)\n",
    "        #print()\n",
    "        print(type(child))\n",
    "        print()\n",
    "\n",
    "        if 'bs4.element.NavigableString' in str(child.__class__):\n",
    "\n",
    "            continue\n",
    "\n",
    "        print(child.name)\n",
    "\n",
    "        for subchild in child.children:\n",
    "\n",
    "            print(subchild)\n",
    "            if subchild.name == 'span':\n",
    "\n",
    "                print('SPAN')\n",
    "                \n",
    "'''"
   ]
  },
  {
   "cell_type": "code",
   "execution_count": null,
   "metadata": {},
   "outputs": [],
   "source": [
    "child.__class__"
   ]
  },
  {
   "cell_type": "code",
   "execution_count": null,
   "metadata": {},
   "outputs": [],
   "source": [
    "from pprint import pprint\n",
    "\n",
    "els = art_meta_el.children\n",
    "meta_store = {}\n",
    "for el in els:\n",
    "    \n",
    "    if 'NavigableString' in str(type(el)):\n",
    "        continue\n",
    "    \n",
    "    if el.text.strip() == '':\n",
    "        continue\n",
    "    #print(el)\n",
    "    \n",
    "    if el['class'][0] == 'contrib-group':\n",
    "        \n",
    "        #extract the list of authors\n",
    "        people = el.findAll('div', {'class':'contrib'})\n",
    "        \n",
    "        for person in people:\n",
    "            \n",
    "            #extract the person's email\n",
    "            email = person.find('span', {'class':'email'})\n",
    "            \n",
    "            #extract the persons surname\n",
    "            surname = person.find('')\n",
    "    \n",
    "    meta_store[el['class'][0]] = el.text.split(':')[-1].strip()\n",
    "    \n",
    "pprint(meta_store)"
   ]
  },
  {
   "cell_type": "code",
   "execution_count": null,
   "metadata": {},
   "outputs": [],
   "source": [
    "str(type(el))"
   ]
  },
  {
   "cell_type": "code",
   "execution_count": null,
   "metadata": {
    "scrolled": false
   },
   "outputs": [],
   "source": [
    "pprint(meta_store)"
   ]
  },
  {
   "cell_type": "markdown",
   "metadata": {},
   "source": [
    "### Extract the abstract"
   ]
  },
  {
   "cell_type": "code",
   "execution_count": null,
   "metadata": {},
   "outputs": [],
   "source": [
    "#find the abstract\n",
    "abstract = front.find('div', {'class':'abstract'})\n",
    "\n",
    "#get the abstract title\n",
    "abstract_title = abstract.find('div', {'class':'abstract-title'}).text.strip()\n",
    "\n",
    "#remove the title section\n",
    "abstract.find('div', {'class':'abstract-title'}).decompose()\n",
    "\n",
    "#get the abstract text\n",
    "abstract_text = abstract.text.strip()\n",
    "\n",
    "\n",
    "#print('TITLE')\n",
    "#print(abstract_title)\n",
    "#print('ABSTRACT BODY')\n",
    "#print(abstract_text)"
   ]
  },
  {
   "cell_type": "markdown",
   "metadata": {},
   "source": [
    "### Extract the references etc."
   ]
  },
  {
   "cell_type": "code",
   "execution_count": null,
   "metadata": {},
   "outputs": [],
   "source": [
    "#Extract the references\n",
    "\n",
    "#pull the back\n",
    "back = body.find('div', {'class':'back'})\n",
    "\n",
    "#get the Acknowledgements\n",
    "ack = back.find('div', {'class':'ack'})\n",
    "\n",
    "#get the references\n",
    "refs = back.find('div', {'tag':'ref-list'})\n",
    "\n",
    "print(refs)"
   ]
  },
  {
   "cell_type": "code",
   "execution_count": null,
   "metadata": {},
   "outputs": [],
   "source": []
  }
 ],
 "metadata": {
  "kernelspec": {
   "display_name": "Python 3",
   "language": "python",
   "name": "python3"
  },
  "language_info": {
   "codemirror_mode": {
    "name": "ipython",
    "version": 3
   },
   "file_extension": ".py",
   "mimetype": "text/x-python",
   "name": "python",
   "nbconvert_exporter": "python",
   "pygments_lexer": "ipython3",
   "version": "3.8.5"
  }
 },
 "nbformat": 4,
 "nbformat_minor": 4
}
