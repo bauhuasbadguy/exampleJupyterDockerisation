{
 "cells": [
  {
   "cell_type": "markdown",
   "metadata": {},
   "source": [
    "<center><h1>Creating a ami dictionary parser</h1></center>"
   ]
  },
  {
   "cell_type": "markdown",
   "metadata": {},
   "source": [
    "## Introduction\n",
    "\n",
    "In this notebook I am going to be creating a tool to process the dictionary objects created by the openvirus ami tool.\n",
    "\n",
    "### Load in a dictionary\n",
    "\n",
    "First of all we need to load in the raw text of a dictionary so we can have a look at how it is formatted and have a think about how we are going to format it"
   ]
  },
  {
   "cell_type": "code",
   "execution_count": 1,
   "metadata": {},
   "outputs": [
    {
     "name": "stdout",
     "output_type": "stream",
     "text": [
      "['disease_multi.xml', 'disease_multi_sparql', 'disease_dict.md', 'disease_new.html', 'disease_synonym.xml', 'disease_synonynm_sparql', 'disease.xml', 'disease_new.txt', 'disease_new.xml', 'disease_icd10_sparql', 'disease_lang.xml']\n"
     ]
    }
   ],
   "source": [
    "import os\n",
    "\n",
    "print(os.listdir('./dictionaries/diseases'))"
   ]
  },
  {
   "cell_type": "code",
   "execution_count": 2,
   "metadata": {},
   "outputs": [
    {
     "name": "stdout",
     "output_type": "stream",
     "text": [
      "dictionary\n"
     ]
    }
   ],
   "source": [
    "\n",
    "'''\n",
    "from xml.sax.handler import ContentHandler\n",
    "import xml.sax\n",
    "import xml.parsers.expat\n",
    "import ConfigParer\n",
    "import xml.sax\n",
    "\n",
    "class Exctract(xml.sax.handler.ContentHandler):\n",
    "    \n",
    "    def __init__(self):\n",
    "        self.curpath = []\n",
    "        \n",
    "    def\n",
    "'''\n",
    "\n",
    "import xml.etree.ElementTree as ET\n",
    "\n",
    "dict_filename = './dictionaries/diseases/disease.xml'\n",
    "\n",
    "root = ET.parse(dict_filename).getroot()\n",
    "\n",
    "\n",
    "print(root.tag)\n"
   ]
  },
  {
   "cell_type": "code",
   "execution_count": 3,
   "metadata": {},
   "outputs": [
    {
     "name": "stdout",
     "output_type": "stream",
     "text": [
      "<Element 'desc' at 0x7f286cd634f0>\n",
      "<Element 'entry' at 0x7f286cd71db0>\n",
      "<Element 'entry' at 0x7f286cd71f90>\n",
      "<Element 'entry' at 0x7f286cd75220>\n"
     ]
    }
   ],
   "source": [
    "for ci, child in enumerate(root):\n",
    "    \n",
    "    print(child)\n",
    "    \n",
    "    if ci > 2:\n",
    "        break"
   ]
  },
  {
   "cell_type": "markdown",
   "metadata": {},
   "source": [
    "### Make a streaming parser"
   ]
  },
  {
   "cell_type": "code",
   "execution_count": 28,
   "metadata": {
    "scrolled": false
   },
   "outputs": [
    {
     "ename": "SyntaxError",
     "evalue": "'break' outside loop (<ipython-input-28-b61a76ffa651>, line 74)",
     "output_type": "error",
     "traceback": [
      "\u001b[0;36m  File \u001b[0;32m\"<ipython-input-28-b61a76ffa651>\"\u001b[0;36m, line \u001b[0;32m74\u001b[0m\n\u001b[0;31m    break\u001b[0m\n\u001b[0m    ^\u001b[0m\n\u001b[0;31mSyntaxError\u001b[0m\u001b[0;31m:\u001b[0m 'break' outside loop\n"
     ]
    }
   ],
   "source": [
    "import xml.sax\n",
    "from xml.sax import make_parser\n",
    "\n",
    "class dictParser(xml.sax.handler.ContentHandler):\n",
    "    \n",
    "    def __init__(self):\n",
    "        \n",
    "        #set up the counter\n",
    "        self.n = 0\n",
    "        \n",
    "        #set up the tool we will use to store the dictionary we are extracting\n",
    "        self.wordStore = []\n",
    "        \n",
    "        #initialise the working dictionary\n",
    "        self.working_dict = {'synonyms':[]}\n",
    "        \n",
    "        #initialise the flag for reading entries\n",
    "        self.inEntry = False\n",
    "        \n",
    "        #initialise the flag for reading synonym text\n",
    "        self.inSynonym = False\n",
    "        \n",
    "        self.descriptor = ''\n",
    "    \n",
    "    def startElement(self, name, attrs):\n",
    "        \n",
    "        if name == 'entry':\n",
    "            \n",
    "            #extract the items\n",
    "            for key in attrs.keys():\n",
    "                \n",
    "                self.working_dict[key] = attrs[key]\n",
    "            \n",
    "            self.inEntry = True\n",
    "            \n",
    "        elif name == 'synonym':\n",
    "            \n",
    "            self.inSynonym = True\n",
    "            \n",
    "            print('START', name)\n",
    "            print(dir(attrs))\n",
    "            #print(attrs.getValue(name))\n",
    "\n",
    "            print('==============')\n",
    "            \n",
    "            \n",
    "    def characters(self, content):\n",
    "        \n",
    "        #only want to do this if we are looking at a synonym\n",
    "        if self.inSynonym:\n",
    "\n",
    "            self.descriptor += content\n",
    "        \n",
    "    def endElement(self, name):\n",
    "        \n",
    "        if name == 'entry':\n",
    "            \n",
    "            #count how many entries we have\n",
    "            self.n += 1\n",
    "            \n",
    "            print('FINISH ENTRY', name)\n",
    "            print(self.working_dict)\n",
    "            print()\n",
    "            #print(stop)\n",
    "            self.inEntry = False\n",
    "            \n",
    "            #store the working dictionary\n",
    "            self.wordStore.append(self.working_dict)\n",
    "            \n",
    "            #reset the working dictionary\n",
    "            self.working_dict = {'synonyms':[]}\n",
    "            \n",
    "            if self.n >= 2:\n",
    "                break\n",
    "            \n",
    "        elif name == 'synonym':\n",
    "            \n",
    "            print('STORE SYNONYM')\n",
    "            \n",
    "            #store the synonym\n",
    "            self.working_dict['synonyms'].append(self.descriptor)\n",
    "            \n",
    "            #wipe the text store object\n",
    "            self.descriptor = ''\n",
    "            \n",
    "            #reset the flag\n",
    "            self.inSynonym = False\n",
    "            print('************************')\n",
    "            \n",
    "\n",
    "\n",
    "        \n",
    "###################################\n",
    "### End of function definitions ###\n",
    "###################################\n",
    "\n",
    "dictParser_tool = dictParser()\n",
    "\n",
    "saxparser = make_parser()\n",
    "\n",
    "saxparser.setContentHandler(dictParser_tool)\n",
    "\n",
    "source = open(dict_filename, 'r')\n",
    "        \n",
    "result = saxparser.parse(source)\n"
   ]
  },
  {
   "cell_type": "code",
   "execution_count": 29,
   "metadata": {},
   "outputs": [
    {
     "data": {
      "text/plain": [
       "['__class__',\n",
       " '__delattr__',\n",
       " '__dict__',\n",
       " '__dir__',\n",
       " '__doc__',\n",
       " '__eq__',\n",
       " '__format__',\n",
       " '__ge__',\n",
       " '__getattribute__',\n",
       " '__gt__',\n",
       " '__hash__',\n",
       " '__init__',\n",
       " '__init_subclass__',\n",
       " '__le__',\n",
       " '__lt__',\n",
       " '__module__',\n",
       " '__ne__',\n",
       " '__new__',\n",
       " '__reduce__',\n",
       " '__reduce_ex__',\n",
       " '__repr__',\n",
       " '__setattr__',\n",
       " '__sizeof__',\n",
       " '__str__',\n",
       " '__subclasshook__',\n",
       " '__weakref__',\n",
       " '_locator',\n",
       " 'characters',\n",
       " 'descriptor',\n",
       " 'endDocument',\n",
       " 'endElement',\n",
       " 'endElementNS',\n",
       " 'endPrefixMapping',\n",
       " 'ignorableWhitespace',\n",
       " 'inEntry',\n",
       " 'inSynonym',\n",
       " 'n',\n",
       " 'processingInstruction',\n",
       " 'setDocumentLocator',\n",
       " 'skippedEntity',\n",
       " 'startDocument',\n",
       " 'startElement',\n",
       " 'startElementNS',\n",
       " 'startPrefixMapping',\n",
       " 'wordStore',\n",
       " 'working_dict']"
      ]
     },
     "execution_count": 29,
     "metadata": {},
     "output_type": "execute_result"
    }
   ],
   "source": [
    "dir(dictParser_tool)"
   ]
  },
  {
   "cell_type": "code",
   "execution_count": 30,
   "metadata": {},
   "outputs": [
    {
     "data": {
      "text/plain": [
       "[{'synonyms': ['near vision', 'near-sightedness', 'short-sightedness'],\n",
       "  'description': 'problem with distance vision',\n",
       "  'name': 'myopia',\n",
       "  'term': 'myopia',\n",
       "  'wikidataAltLabel': 'near vision, near-sightedness, short-sightedness',\n",
       "  'wikidataURL': 'http://www.wikidata.org/entity/Q168403',\n",
       "  'wikipediaPage': 'https://en.wikipedia.org/wiki/Near-sightedness',\n",
       "  'wikidataID': 'Q168403'},\n",
       " {'synonyms': ['mental or behavioural disorder',\n",
       "   'psychotic disorder',\n",
       "   'psychotic disorders'],\n",
       "  '_p494_icd10code': 'F20',\n",
       "  'description': 'abnormal condition of the mind that involves a loss of contact with reality',\n",
       "  'name': 'psychosis',\n",
       "  'term': 'psychosis',\n",
       "  'wikidataAltLabel': 'mental or behavioural disorder, psychotic disorder, psychotic disorders',\n",
       "  'wikidataURL': 'http://www.wikidata.org/entity/Q170082',\n",
       "  'wikipediaPage': 'https://en.wikipedia.org/wiki/Psychosis',\n",
       "  'wikidataID': 'Q170082'}]"
      ]
     },
     "execution_count": 30,
     "metadata": {},
     "output_type": "execute_result"
    }
   ],
   "source": [
    "dictParser_tool.wordStore"
   ]
  },
  {
   "cell_type": "code",
   "execution_count": null,
   "metadata": {},
   "outputs": [],
   "source": []
  }
 ],
 "metadata": {
  "kernelspec": {
   "display_name": "Python 3",
   "language": "python",
   "name": "python3"
  },
  "language_info": {
   "codemirror_mode": {
    "name": "ipython",
    "version": 3
   },
   "file_extension": ".py",
   "mimetype": "text/x-python",
   "name": "python",
   "nbconvert_exporter": "python",
   "pygments_lexer": "ipython3",
   "version": "3.8.5"
  }
 },
 "nbformat": 4,
 "nbformat_minor": 4
}
