{
 "cells": [
  {
   "cell_type": "markdown",
   "metadata": {},
   "source": [
    "<center><h1>Attempting to import scholary html processing functions</center></h1>"
   ]
  },
  {
   "cell_type": "markdown",
   "metadata": {},
   "source": [
    "## Introduction\n",
    "\n"
   ]
  },
  {
   "cell_type": "code",
   "execution_count": 1,
   "metadata": {},
   "outputs": [
    {
     "name": "stdout",
     "output_type": "stream",
     "text": [
      "\n",
      "Background\n",
      "The key enzymes of photosynthetic carbon assimilation in C4 plants have evolved independently several times from C3 isoforms that were present in the C3 ancestral species. The C4 isoform of phosphoenolpyruvate carboxylase (PEPC), the primary CO2-fixing enzyme of the C4 cycle, is specifically expressed at high levels in mesophyll cells of the leaves of C4 species. We are interested in understanding the molecular changes that are responsible for the evolution of this C4-characteristic PEPC expression pattern, and we are using the genus Flaveria (Asteraceae) as a model system. It is known that cis-regulatory sequences for mesophyll-specific expression of the ppcA1 gene of F. trinervia (C4) are located within a distal promoter region (DR).\n",
      "\n",
      "Results\n",
      "In this study we focus on the proximal region (PR) of the ppcA1 promoter of F. trinervia and present an analysis of its function in establishing a C4-specific expression pattern. We demonstrate that the PR harbours cis-regulatory determinants which account for high levels of PEPC expression in the leaf. Our results further suggest that an intron in the 5' untranslated leader region of the PR is not essential for the control of ppcA1 gene expression.\n",
      "\n",
      "Conclusion\n",
      "The allocation of cis-regulatory elements for enhanced expression levels to the proximal region of the ppcA1 promoter provides further insight into the regulation of PEPC expression in C4 leaves.\n",
      "\n"
     ]
    }
   ],
   "source": [
    "from ipynb.fs.full.scholarly_html_functions import paper_obj\n",
    "\n",
    "\n",
    "#set the filename\n",
    "filename = './results/PMC2241601/scholarly.html'\n",
    "\n",
    "#create the paper object\n",
    "result = paper_obj(filename)\n",
    "\n",
    "print(result.abstract_text)"
   ]
  },
  {
   "cell_type": "code",
   "execution_count": null,
   "metadata": {},
   "outputs": [],
   "source": []
  }
 ],
 "metadata": {
  "kernelspec": {
   "display_name": "Python 3",
   "language": "python",
   "name": "python3"
  },
  "language_info": {
   "codemirror_mode": {
    "name": "ipython",
    "version": 3
   },
   "file_extension": ".py",
   "mimetype": "text/x-python",
   "name": "python",
   "nbconvert_exporter": "python",
   "pygments_lexer": "ipython3",
   "version": "3.8.5"
  }
 },
 "nbformat": 4,
 "nbformat_minor": 4
}
