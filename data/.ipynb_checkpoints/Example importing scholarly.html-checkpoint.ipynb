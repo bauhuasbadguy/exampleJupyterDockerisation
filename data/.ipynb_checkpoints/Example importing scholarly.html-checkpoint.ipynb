{
 "cells": [
  {
   "cell_type": "markdown",
   "metadata": {},
   "source": [
    "<center><h1>Attempting to import scholary html processing functions</center></h1>"
   ]
  },
  {
   "cell_type": "markdown",
   "metadata": {},
   "source": [
    "## Introduction\n",
    "\n",
    "In this notebook I am showing an example of loading in scholarly.html files and then looking at the data we have loaded."
   ]
  },
  {
   "cell_type": "code",
   "execution_count": 5,
   "metadata": {},
   "outputs": [
    {
     "name": "stdout",
     "output_type": "stream",
     "text": [
      "Calmodulin (CaM) is involved in defense responses in plants. In soybean (Glycine max), transcription of calmodulin isoform 4 (GmCaM4) is rapidly induced within 30 min after pathogen stimulation, but regulation of the GmCaM4 gene in response to pathogen is poorly understood. Here, we used the yeast one-hybrid system to isolate two cDNA clones encoding proteins that bind to a 30-nt A/T-rich sequence in the GmCaM4 promoter, a region that contains two repeats of a conserved homeodomain binding site, ATTA. The two proteins, GmZF-HD1 and GmZF-HD2, belong to the zinc finger homeodomain (ZF-HD) transcription factor family. Domain deletion analysis showed that a homeodomain motif can bind to the 30-nt GmCaM4 promoter sequence, whereas the two zinc finger domains cannot. Critically, the formation of super-shifted complexes by an anti-GmZF-HD1 antibody incubated with nuclear extracts from pathogen-treated cells suggests that the interaction between GmZF-HD1 and two homeodomain binding site repeats is regulated by pathogen stimulation. Finally, a transient expression assay with Arabidopsis protoplasts confirmed that GmZF-HD1 can activate the expression of GmCaM4 by specifically interacting with the two repeats. These results suggest that the GmZF-HD1 and –2 proteins function as ZF-HD transcription factors to activate GmCaM4 gene expression in response to pathogen.\n",
      "\n"
     ]
    }
   ],
   "source": [
    "from ipynb.fs.full.scholarly_html_functions import paper_obj\n",
    "\n",
    "\n",
    "#set the filename\n",
    "filename = './results/PMC2241601/scholarly.html'\n",
    "filename = './results/PMC1920248/scholarly.html'\n",
    "\n",
    "#create the paper object\n",
    "paper = paper_obj(filename)\n",
    "\n",
    "print(paper.abstract_text)"
   ]
  },
  {
   "cell_type": "code",
   "execution_count": 6,
   "metadata": {
    "scrolled": false
   },
   "outputs": [
    {
     "name": "stdout",
     "output_type": "stream",
     "text": [
      "{'article-meta': {'abstract': {'abstract-title': {},\n",
      "                               'text': 'Calmodulin (CaM) is involved in '\n",
      "                                       'defense responses in plants. In '\n",
      "                                       'soybean (Glycine max), transcription '\n",
      "                                       'of calmodulin isoform 4 (GmCaM4) is '\n",
      "                                       'rapidly induced within 30\\u2009min '\n",
      "                                       'after pathogen stimulation, but '\n",
      "                                       'regulation of the GmCaM4 gene in '\n",
      "                                       'response to pathogen is poorly '\n",
      "                                       'understood. Here, we used the yeast '\n",
      "                                       'one-hybrid system to isolate two cDNA '\n",
      "                                       'clones encoding proteins that bind to '\n",
      "                                       'a 30-nt A/T-rich sequence in the '\n",
      "                                       'GmCaM4 promoter, a region that '\n",
      "                                       'contains two repeats of a conserved '\n",
      "                                       'homeodomain binding site, ATTA. The '\n",
      "                                       'two proteins, GmZF-HD1 and GmZF-HD2, '\n",
      "                                       'belong to the zinc finger homeodomain '\n",
      "                                       '(ZF-HD) transcription factor family. '\n",
      "                                       'Domain deletion analysis showed that a '\n",
      "                                       'homeodomain motif can bind to the '\n",
      "                                       '30-nt GmCaM4 promoter sequence, '\n",
      "                                       'whereas the two zinc finger domains '\n",
      "                                       'cannot. Critically, the formation of '\n",
      "                                       'super-shifted complexes by an '\n",
      "                                       'anti-GmZF-HD1 antibody incubated with '\n",
      "                                       'nuclear extracts from pathogen-treated '\n",
      "                                       'cells suggests that the interaction '\n",
      "                                       'between GmZF-HD1 and two homeodomain '\n",
      "                                       'binding site repeats is regulated by '\n",
      "                                       'pathogen stimulation. Finally, a '\n",
      "                                       'transient expression assay with '\n",
      "                                       'Arabidopsis protoplasts confirmed that '\n",
      "                                       'GmZF-HD1 can activate the expression '\n",
      "                                       'of GmCaM4 by specifically interacting '\n",
      "                                       'with the two repeats. These results '\n",
      "                                       'suggest that the GmZF-HD1 and –2 '\n",
      "                                       'proteins function as ZF-HD '\n",
      "                                       'transcription factors to activate '\n",
      "                                       'GmCaM4 gene expression in response to '\n",
      "                                       'pathogen.'},\n",
      "                  'article-categories': {'subject': 'Molecular Biology'},\n",
      "                  'author-notes': {'corresp': {'email': 'choslab@gnu.ac.kr',\n",
      "                                               'fax': '+82-55-759-9363',\n",
      "                                               'phone': '+82-55-751-6254'},\n",
      "                                   'fn-type-': {'text': 'The authors wish it '\n",
      "                                                        'to be known that, in '\n",
      "                                                        'their opinion, the '\n",
      "                                                        'first two authors '\n",
      "                                                        'should be regarded as '\n",
      "                                                        'joint First Authors'}},\n",
      "                  'citation_author_institution': '[], 12',\n",
      "                  'doi': {'links': [{'link': 'https://dx.doi.org/10.1093/nar/gkm273',\n",
      "                                     'text': '10.1093/nar/gkm273'}],\n",
      "                          'text': 'doi: 10.1093/nar/gkm273'},\n",
      "                  'fpage': '3612',\n",
      "                  'history': 'received: 2006-12-1rev-recd: 2007-4-10accepted: '\n",
      "                             '2007-4-10',\n",
      "                  'issue': '11',\n",
      "                  'lpage': '3623',\n",
      "                  'permissions': {'copyright': '(C) , 2007',\n",
      "                                  'license': {'links': [{'link': 'http://creativecommons.org/licenses/by-nc/2.0/uk/',\n",
      "                                                         'text': 'http://creativecommons.org/licenses/by-nc/2.0/uk/'}],\n",
      "                                              'text': 'This is an Open Access '\n",
      "                                                      'article distributed '\n",
      "                                                      'under the terms of the '\n",
      "                                                      'Creative Commons '\n",
      "                                                      'Attribution '\n",
      "                                                      'Non-Commercial License '\n",
      "                                                      '(http://creativecommons.org/licenses/by-nc/2.0/uk/) '\n",
      "                                                      'which permits '\n",
      "                                                      'unrestricted '\n",
      "                                                      'non-commercial use, '\n",
      "                                                      'distribution, and '\n",
      "                                                      'reproduction in any '\n",
      "                                                      'medium, provided the '\n",
      "                                                      'original work is '\n",
      "                                                      'properly cited.'}},\n",
      "                  'pmid': {'links': [{'link': 'http://www.ncbi.nlm.nih.gov/pubmed/17485478',\n",
      "                                      'text': '17485478'}],\n",
      "                           'text': 'pmid: 17485478'},\n",
      "                  'pub-date-epub': 'epub: 2007-5-5',\n",
      "                  'pub-date-pmc-release': 'pmc-release: 2007-5-5',\n",
      "                  'pub-date-ppub': 'ppub: 2007-6',\n",
      "                  'title-group': {'article-title': 'Pathogen-induced binding '\n",
      "                                                   'of the soybean zinc finger '\n",
      "                                                   'homeodomain proteins '\n",
      "                                                   'GmZF-HD1 and GmZF-HD2 to '\n",
      "                                                   'two repeats of ATTA '\n",
      "                                                   'homeodomain binding site '\n",
      "                                                   'in the calmodulin isoform '\n",
      "                                                   '4 (GmCaM4) promoter'},\n",
      "                  'volume': '35'},\n",
      " 'journal-meta': {'iso-abbrev': 'Nucleic Acids Res',\n",
      "                  'issn-epub': '1362-4962',\n",
      "                  'issn-ppub': '0305-1048',\n",
      "                  'journal-title-group': {'journal-title': 'Nucleic Acids '\n",
      "                                                           'Research'},\n",
      "                  'nlm-ta': 'Nucleic Acids Res',\n",
      "                  'pmc': 'nar',\n",
      "                  'publisher': {'publisher-name': 'Oxford University Press'},\n",
      "                  'publisher-id': 'Nucleic Acids Research'}}\n"
     ]
    }
   ],
   "source": [
    "from pprint import pprint\n",
    "\n",
    "pprint(paper.meta)"
   ]
  },
  {
   "cell_type": "code",
   "execution_count": null,
   "metadata": {},
   "outputs": [],
   "source": []
  }
 ],
 "metadata": {
  "kernelspec": {
   "display_name": "Python 3",
   "language": "python",
   "name": "python3"
  },
  "language_info": {
   "codemirror_mode": {
    "name": "ipython",
    "version": 3
   },
   "file_extension": ".py",
   "mimetype": "text/x-python",
   "name": "python",
   "nbconvert_exporter": "python",
   "pygments_lexer": "ipython3",
   "version": "3.8.5"
  }
 },
 "nbformat": 4,
 "nbformat_minor": 4
}
