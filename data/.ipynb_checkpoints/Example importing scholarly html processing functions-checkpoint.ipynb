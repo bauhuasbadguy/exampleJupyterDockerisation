{
 "cells": [
  {
   "cell_type": "markdown",
   "metadata": {},
   "source": [
    "<center><h1>Attempting to import scholary html processing functions</center></h1>"
   ]
  },
  {
   "cell_type": "markdown",
   "metadata": {},
   "source": [
    "## Introduction\n",
    "\n"
   ]
  },
  {
   "cell_type": "code",
   "execution_count": 1,
   "metadata": {},
   "outputs": [
    {
     "name": "stdout",
     "output_type": "stream",
     "text": [
      "\n",
      "Background\n",
      "The key enzymes of photosynthetic carbon assimilation in C4 plants have evolved independently several times from C3 isoforms that were present in the C3 ancestral species. The C4 isoform of phosphoenolpyruvate carboxylase (PEPC), the primary CO2-fixing enzyme of the C4 cycle, is specifically expressed at high levels in mesophyll cells of the leaves of C4 species. We are interested in understanding the molecular changes that are responsible for the evolution of this C4-characteristic PEPC expression pattern, and we are using the genus Flaveria (Asteraceae) as a model system. It is known that cis-regulatory sequences for mesophyll-specific expression of the ppcA1 gene of F. trinervia (C4) are located within a distal promoter region (DR).\n",
      "\n",
      "Results\n",
      "In this study we focus on the proximal region (PR) of the ppcA1 promoter of F. trinervia and present an analysis of its function in establishing a C4-specific expression pattern. We demonstrate that the PR harbours cis-regulatory determinants which account for high levels of PEPC expression in the leaf. Our results further suggest that an intron in the 5' untranslated leader region of the PR is not essential for the control of ppcA1 gene expression.\n",
      "\n",
      "Conclusion\n",
      "The allocation of cis-regulatory elements for enhanced expression levels to the proximal region of the ppcA1 promoter provides further insight into the regulation of PEPC expression in C4 leaves.\n",
      "\n"
     ]
    }
   ],
   "source": [
    "from ipynb.fs.full.scholarly_html_functions import paper_obj\n",
    "\n",
    "\n",
    "#set the filename\n",
    "filename = './results/PMC2241601/scholarly.html'\n",
    "\n",
    "#create the paper object\n",
    "paper = paper_obj(filename)\n",
    "\n",
    "print(paper.abstract_text)"
   ]
  },
  {
   "cell_type": "code",
   "execution_count": 2,
   "metadata": {
    "scrolled": false
   },
   "outputs": [
    {
     "name": "stdout",
     "output_type": "stream",
     "text": [
      "{'article-meta': {'abstract': {'abstract-title': {},\n",
      "                               'background': {'text': 'The key enzymes of '\n",
      "                                                      'photosynthetic carbon '\n",
      "                                                      'assimilation in C4 '\n",
      "                                                      'plants have evolved '\n",
      "                                                      'independently several '\n",
      "                                                      'times from C3 isoforms '\n",
      "                                                      'that were present in '\n",
      "                                                      'the C3 ancestral '\n",
      "                                                      'species. The C4 isoform '\n",
      "                                                      'of phosphoenolpyruvate '\n",
      "                                                      'carboxylase (PEPC), the '\n",
      "                                                      'primary CO2-fixing '\n",
      "                                                      'enzyme of the C4 cycle, '\n",
      "                                                      'is specifically '\n",
      "                                                      'expressed at high '\n",
      "                                                      'levels in mesophyll '\n",
      "                                                      'cells of the leaves of '\n",
      "                                                      'C4 species. We are '\n",
      "                                                      'interested in '\n",
      "                                                      'understanding the '\n",
      "                                                      'molecular changes that '\n",
      "                                                      'are responsible for the '\n",
      "                                                      'evolution of this '\n",
      "                                                      'C4-characteristic PEPC '\n",
      "                                                      'expression pattern, and '\n",
      "                                                      'we are using the genus '\n",
      "                                                      'Flaveria (Asteraceae) '\n",
      "                                                      'as a model system. It '\n",
      "                                                      'is known that '\n",
      "                                                      'cis-regulatory '\n",
      "                                                      'sequences for '\n",
      "                                                      'mesophyll-specific '\n",
      "                                                      'expression of the ppcA1 '\n",
      "                                                      'gene of F. trinervia '\n",
      "                                                      '(C4) are located within '\n",
      "                                                      'a distal promoter '\n",
      "                                                      'region (DR).',\n",
      "                                              'title': 'Background'},\n",
      "                               'conclusion': {'text': 'The allocation of '\n",
      "                                                      'cis-regulatory elements '\n",
      "                                                      'for enhanced expression '\n",
      "                                                      'levels to the proximal '\n",
      "                                                      'region of the ppcA1 '\n",
      "                                                      'promoter provides '\n",
      "                                                      'further insight into '\n",
      "                                                      'the regulation of PEPC '\n",
      "                                                      'expression in C4 '\n",
      "                                                      'leaves.',\n",
      "                                              'title': 'Conclusion'},\n",
      "                               'results': {'text': 'In this study we focus on '\n",
      "                                                   'the proximal region (PR) '\n",
      "                                                   'of the ppcA1 promoter of '\n",
      "                                                   'F. trinervia and present '\n",
      "                                                   'an analysis of its '\n",
      "                                                   'function in establishing a '\n",
      "                                                   'C4-specific expression '\n",
      "                                                   'pattern. We demonstrate '\n",
      "                                                   'that the PR harbours '\n",
      "                                                   'cis-regulatory '\n",
      "                                                   'determinants which account '\n",
      "                                                   'for high levels of PEPC '\n",
      "                                                   'expression in the leaf. '\n",
      "                                                   'Our results further '\n",
      "                                                   'suggest that an intron in '\n",
      "                                                   \"the 5' untranslated leader \"\n",
      "                                                   'region of the PR is not '\n",
      "                                                   'essential for the control '\n",
      "                                                   'of ppcA1 gene expression.',\n",
      "                                           'title': 'Results'}},\n",
      "                  'article-categories': {'subject': 'Research Article'},\n",
      "                  'citation_author_institution': '[2],',\n",
      "                  'doi': {'links': [{'link': 'https://dx.doi.org/10.1186/1471-2229-8-4',\n",
      "                                     'text': '10.1186/1471-2229-8-4'}],\n",
      "                          'text': 'doi: 10.1186/1471-2229-8-4'},\n",
      "                  'fpage': '4',\n",
      "                  'history': 'received: 2007-11-8accepted: 2008-1-21',\n",
      "                  'lpage': '4',\n",
      "                  'permissions': {'copyright': '(C) Engelmann et al; licensee '\n",
      "                                               'BioMed Central Ltd., 2008',\n",
      "                                  'license': {'links': [{'link': 'http://creativecommons.org/licenses/by/2.0',\n",
      "                                                         'text': ''}],\n",
      "                                              'text': 'This is an Open Access '\n",
      "                                                      'article distributed '\n",
      "                                                      'under the terms of the '\n",
      "                                                      'Creative Commons '\n",
      "                                                      'Attribution License (), '\n",
      "                                                      'which permits '\n",
      "                                                      'unrestricted use, '\n",
      "                                                      'distribution, and '\n",
      "                                                      'reproduction in any '\n",
      "                                                      'medium, provided the '\n",
      "                                                      'original work is '\n",
      "                                                      'properly cited.'}},\n",
      "                  'pmid': {'links': [{'link': 'http://www.ncbi.nlm.nih.gov/pubmed/18208593',\n",
      "                                      'text': '18208593'}],\n",
      "                           'text': 'pmid: 18208593'},\n",
      "                  'pub-date-collection': 'collection: 2008',\n",
      "                  'pub-date-epub': 'epub: 2008-1-1',\n",
      "                  'publisher-id': '1471-2229-8-4',\n",
      "                  'title-group': {'article-title': 'Evolution of the C4 '\n",
      "                                                   'phosphoenolpyruvate '\n",
      "                                                   'carboxylase promoter of '\n",
      "                                                   'the C4 species Flaveria '\n",
      "                                                   'trinervia: the role of the '\n",
      "                                                   'proximal promoter region'},\n",
      "                  'volume': '8'},\n",
      " 'journal-meta': {'issn-epub': '1471-2229',\n",
      "                  'journal-title': 'BMC Plant Biology',\n",
      "                  'nlm-ta': 'BMC Plant Biol',\n",
      "                  'publisher': {'publisher-name': 'BioMed Central'}}}\n"
     ]
    }
   ],
   "source": [
    "from pprint import pprint\n",
    "\n",
    "pprint(paper.meta)"
   ]
  },
  {
   "cell_type": "code",
   "execution_count": null,
   "metadata": {},
   "outputs": [],
   "source": []
  }
 ],
 "metadata": {
  "kernelspec": {
   "display_name": "Python 3",
   "language": "python",
   "name": "python3"
  },
  "language_info": {
   "codemirror_mode": {
    "name": "ipython",
    "version": 3
   },
   "file_extension": ".py",
   "mimetype": "text/x-python",
   "name": "python",
   "nbconvert_exporter": "python",
   "pygments_lexer": "ipython3",
   "version": "3.8.5"
  }
 },
 "nbformat": 4,
 "nbformat_minor": 4
}
